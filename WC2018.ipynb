mlp = MLPClassifier('alpha': 0.0001, 'activation': 'relu', 'solver': 'sgd', 'hidden_layer_sizes': (50, 50, 50))
mlp.fit(X_train, y_train)
score = mlp.score(X_train, y_train)
score2 = mlp.score(X_test, y_test)

print("Training set accuracy: ", '%.3f'%(score))
print("Test set accuracy: ", '%.3f'%(score2))

{'alpha': 0.0001, 'activation': 'tanh', 'solver': 'sgd', 'hidden_layer_sizes': (50, 50, 50)}
{'alpha': 0.05, 'activation': 'relu', 'solver': 'sgd', 'hidden_layer_sizes': (50, 50, 50)}



'''
parameter_space = {
    'hidden_layer_sizes': [(50,50,50), (100,)],
    'activation': ['tanh', 'relu'],
    'solver': ['sgd', 'adam'],
    'alpha': [0.0001, 0.05],
}

clf = GridSearchCV(mlp, parameter_space, n_jobs=-1, cv=3)
clf.fit(X_train, y_train)

# Best paramete set
print('Best parameters found:\n', clf.best_params_)

# All results
means = clf.cv_results_['mean_test_score']
stds = clf.cv_results_['std_test_score']
for mean, std, params in zip(means, stds, clf.cv_results_['params']):
    print("%0.3f (+/-%0.03f) for %r" % (mean, std * 2, params))
'''
mlp = MLPClassifier(alpha = 0.0001, activation = 'relu', hidden_layer_sizes = 100)
mlp.fit(X_train, y_train)
score = mlp.score(X_train, y_train)
score2 = mlp.score(X_test, y_test)

print("Training set accuracy: ", '%.3f'%(score))
print("Test set accuracy: ", '%.3f'%(score2))

0.554 (+/-0.006) for {'penalty': 'l2', 'C': 1.0, 'solver': 'sag'}
 {'penalty': 'elasticnet', 'C': 1.0, 'solver': 'saga'}






'''
parameter_space = {
    'hidden_layer_sizes': [(50,50,50), (100,)],
    'activation': ['tanh', 'relu'],
    'solver': ['sgd', 'adam'],
    'alpha': [0.0001, 0.05],
}

clf = GridSearchCV(mlp, parameter_space, n_jobs=-1, cv=3)
clf.fit(X_train, y_train)

# Best paramete set
print('Best parameters found:\n', clf.best_params_)

# All results
means = clf.cv_results_['mean_test_score']
stds = clf.cv_results_['std_test_score']
for mean, std, params in zip(means, stds, clf.cv_results_['params']):
    print("%0.3f (+/-%0.03f) for %r" % (mean, std * 2, params))
    
mlp = MLPClassifier(alpha = 0.005, activation = 'relu', hidden_layer_sizes = 100)
mlp.fit(X_train, y_train)
score = mlp.score(X_train, y_train)
score2 = mlp.score(X_test, y_test)

print("Training set accuracy: ", '%.3f'%(score))
print("Test set accuracy: ", '%.3f'%(score2))
'''
'''
parameter_space = {
    'penalty': ['l2'],
    'C': [0.5, 2.0],
    'solver': ['newton-cg', 'sag', 'lbfgs', 'saga', 'liblinear'],
}

clf = GridSearchCV(mlp, parameter_space, n_jobs=-1, cv=3)
clf.fit(X_train, y_train)

# Best paramete set
print('Best parameters found:\n', clf.best_params_)

# All results
means = clf.cv_results_['mean_test_score']
stds = clf.cv_results_['std_test_score']
for mean, std, params in zip(means, stds, clf.cv_results_['params']):
    print("%0.3f (+/-%0.03f) for %r" % (mean, std * 2, params))
'''
mlp = LogisticRegression(penalty = 'elasticnet', C = 1.0, solver = 'saga')
mlp.fit(X_train, y_train)
score = mlp.score(X_train, y_train)
score2 = mlp.score(X_test, y_test)

print("Training set accuracy: ", '%.3f'%(score))
print("Test set accuracy: ", '%.3f'%(score2))

